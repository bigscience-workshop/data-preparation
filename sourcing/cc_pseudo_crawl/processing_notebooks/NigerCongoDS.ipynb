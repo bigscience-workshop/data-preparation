{
 "cells": [
  {
   "cell_type": "code",
   "execution_count": 1,
   "metadata": {},
   "outputs": [],
   "source": [
    "from datasets import list_datasets, load_dataset\n",
    "from huggingface_hub import HfApi\n",
    "\n",
    "_AUTH_TOKEN = \"\"\n",
    "\n",
    "api = HfApi()\n",
    "api.set_access_token(_AUTH_TOKEN)"
   ]
  },
  {
   "cell_type": "code",
   "execution_count": 3,
   "metadata": {},
   "outputs": [],
   "source": [
    "lm_datasets = [\n",
    "    ds_name.id\n",
    "    for ds_name in api.list_datasets(use_auth_token=_AUTH_TOKEN)\n",
    "    if ds_name.id.startswith(\"bigscience-catalogue-lm-data\")\n",
    "]"
   ]
  },
  {
   "cell_type": "code",
   "execution_count": 6,
   "metadata": {},
   "outputs": [
    {
     "data": {
      "text/plain": [
       "{'ak': ['bigscience-catalogue-lm-data/lm_nigercongo-ak_bloom'],\n",
       " 'bm': ['bigscience-catalogue-lm-data/lm_nigercongo-bm_bloom'],\n",
       " 'fon': ['bigscience-catalogue-lm-data/lm_nigercongo-fon_bloom',\n",
       "  'bigscience-catalogue-lm-data/lm_nigercongo-fon_ffr'],\n",
       " 'ig': ['bigscience-catalogue-lm-data/lm_nigercongo-ig_masakhaner',\n",
       "  'bigscience-catalogue-lm-data/lm_nigercongo-ig_opus100'],\n",
       " 'ki': ['bigscience-catalogue-lm-data/lm_nigercongo-ki_bloom'],\n",
       " 'lg': ['bigscience-catalogue-lm-data/lm_nigercongo-lg_bloom',\n",
       "  'bigscience-catalogue-lm-data/lm_nigercongo-lg_masakhaner'],\n",
       " 'ln': ['bigscience-catalogue-lm-data/lm_nigercongo-ln_bloom'],\n",
       " 'nso': ['bigscience-catalogue-lm-data/lm_nigercongo-nso_bloom'],\n",
       " 'rw': ['bigscience-catalogue-lm-data/lm_nigercongo-rw_bloom',\n",
       "  'bigscience-catalogue-lm-data/lm_nigercongo-rw_masakhaner',\n",
       "  'bigscience-catalogue-lm-data/lm_nigercongo-rw_opus100'],\n",
       " 'st': ['bigscience-catalogue-lm-data/lm_nigercongo-st_bloom'],\n",
       " 'sw': ['bigscience-catalogue-lm-data/lm_nigercongo-sw_bloom',\n",
       "  'bigscience-catalogue-lm-data/lm_nigercongo-sw_masakhaner',\n",
       "  'bigscience-catalogue-lm-data/lm_nigercongo-sw_swahili_news',\n",
       "  'bigscience-catalogue-lm-data/lm_nigercongo-sw_ted_talks_iwslt'],\n",
       " 'tn': ['bigscience-catalogue-lm-data/lm_nigercongo-tn_bloom'],\n",
       " 'ts': ['bigscience-catalogue-lm-data/lm_nigercongo-ts_bloom'],\n",
       " 'wo': ['bigscience-catalogue-lm-data/lm_nigercongo-wo_masakhaner'],\n",
       " 'xh': ['bigscience-catalogue-lm-data/lm_nigercongo-xh_bloom',\n",
       "  'bigscience-catalogue-lm-data/lm_nigercongo-xh_book_dash_books',\n",
       "  'bigscience-catalogue-lm-data/lm_nigercongo-xh_opus100'],\n",
       " 'yo': ['bigscience-catalogue-lm-data/lm_nigercongo-yo_masakhaner',\n",
       "  'bigscience-catalogue-lm-data/lm_nigercongo-yo_opus100'],\n",
       " 'zu': ['bigscience-catalogue-lm-data/lm_nigercongo-zu_bloom',\n",
       "  'bigscience-catalogue-lm-data/lm_nigercongo-zu_book_dash_books',\n",
       "  'bigscience-catalogue-lm-data/lm_nigercongo-zu_opus100']}"
      ]
     },
     "execution_count": 6,
     "metadata": {},
     "output_type": "execute_result"
    }
   ],
   "source": [
    "lncode_to_dsnames = {}\n",
    "\n",
    "for lncode, dsname in [\n",
    "    (ds_name.split('_')[1].split('-')[1], ds_name)\n",
    "    for ds_name in lm_datasets if \"nigercongo\" in ds_name\n",
    "]:\n",
    "    lncode_to_dsnames[lncode] = lncode_to_dsnames.get(lncode, []) + [dsname]\n",
    "\n",
    "lncode_to_dsnames"
   ]
  },
  {
   "cell_type": "markdown",
   "metadata": {},
   "source": [
    "# Additional text: yo - Yoruba"
   ]
  },
  {
   "cell_type": "code",
   "execution_count": 34,
   "metadata": {},
   "outputs": [
    {
     "name": "stderr",
     "output_type": "stream",
     "text": [
      "Reusing dataset yoruba_text_c3 (/home/yjernite/.cache/huggingface/datasets/yoruba_text_c3/yoruba_text_c3/1.0.0/dbf0b0085c03d98b73f35fe80f4e75928025b483958c24f86440104921830d98)\n"
     ]
    },
    {
     "data": {
      "application/vnd.jupyter.widget-view+json": {
       "model_id": "60804ee876a34ac9b6094acb30b4d268",
       "version_major": 2,
       "version_minor": 0
      },
      "text/plain": [
       "HBox(children=(FloatProgress(value=0.0, max=1.0), HTML(value='')))"
      ]
     },
     "metadata": {},
     "output_type": "display_data"
    },
    {
     "name": "stdout",
     "output_type": "stream",
     "text": [
      "\n"
     ]
    },
    {
     "data": {
      "text/plain": [
       "(DatasetDict({\n",
       "     train: Dataset({\n",
       "         features: ['text'],\n",
       "         num_rows: 562238\n",
       "     })\n",
       " }),\n",
       " {'text': 'lílo àkàbà — ǹjẹ́ o máa ń ṣe àyẹ̀wò wọ̀nyí tó lè dáàbò bò ẹ́'})"
      ]
     },
     "execution_count": 34,
     "metadata": {},
     "output_type": "execute_result"
    }
   ],
   "source": [
    "ds_yo_yoruba_text_c3 = load_dataset(\"yoruba_text_c3\")\n",
    "ds_yo_yoruba_text_c3, ds_yo_yoruba_text_c3['train'][0]"
   ]
  },
  {
   "cell_type": "markdown",
   "metadata": {},
   "source": [
    "# Additional text: sw - Swahili"
   ]
  },
  {
   "cell_type": "code",
   "execution_count": 32,
   "metadata": {},
   "outputs": [
    {
     "name": "stderr",
     "output_type": "stream",
     "text": [
      "Reusing dataset swahili (/home/yjernite/.cache/huggingface/datasets/swahili/swahili/1.0.0/15bf1d99abb939f83b5da3c798ed55e9803b3ea430f06bf7e003bd073b60172a)\n"
     ]
    },
    {
     "data": {
      "application/vnd.jupyter.widget-view+json": {
       "model_id": "b0ed33cabe1c4fbfad679d3f6ac00ef1",
       "version_major": 2,
       "version_minor": 0
      },
      "text/plain": [
       "HBox(children=(FloatProgress(value=0.0, max=3.0), HTML(value='')))"
      ]
     },
     "metadata": {},
     "output_type": "display_data"
    },
    {
     "name": "stdout",
     "output_type": "stream",
     "text": [
      "\n"
     ]
    },
    {
     "data": {
      "text/plain": [
       "(DatasetDict({\n",
       "     train: Dataset({\n",
       "         features: ['text'],\n",
       "         num_rows: 42069\n",
       "     })\n",
       "     test: Dataset({\n",
       "         features: ['text'],\n",
       "         num_rows: 3371\n",
       "     })\n",
       "     validation: Dataset({\n",
       "         features: ['text'],\n",
       "         num_rows: 3372\n",
       "     })\n",
       " }),\n",
       " {'text': 'taarifa hiyo ilisema kuwa ongezeko la joto la maji juu ya wastani katikati ya bahari ya UNK inaashiria kuwepo kwa mvua za el nino UNK hadi mwishoni mwa april ishirini moja sifuri imeelezwa kuwa ongezeko la joto magharibi mwa bahari ya hindi linatarajiwa kuhamia katikati ya bahari hiyo hali ambayo itasababisha pepo kutoka kaskazini mashariki kuvuma kuelekea bahari ya hindi'})"
      ]
     },
     "execution_count": 32,
     "metadata": {},
     "output_type": "execute_result"
    }
   ],
   "source": [
    "ds_sw_swahili = load_dataset(\"swahili\")\n",
    "ds_sw_swahili, ds_sw_swahili['train'][0]"
   ]
  },
  {
   "cell_type": "code",
   "execution_count": 33,
   "metadata": {},
   "outputs": [
    {
     "name": "stderr",
     "output_type": "stream",
     "text": [
      "Using custom data configuration en-sw-lang1=en,lang2=sw\n",
      "Reusing dataset tanzil (/home/yjernite/.cache/huggingface/datasets/tanzil/en-sw-lang1=en,lang2=sw/0.0.0/578cc9b2b27fb2bb69f376cca603da36306f746819d43466b8fc2e9f8b034920)\n"
     ]
    },
    {
     "data": {
      "application/vnd.jupyter.widget-view+json": {
       "model_id": "3d592dcae34b4c2699db11d0b0d098a3",
       "version_major": 2,
       "version_minor": 0
      },
      "text/plain": [
       "HBox(children=(FloatProgress(value=0.0, max=1.0), HTML(value='')))"
      ]
     },
     "metadata": {},
     "output_type": "display_data"
    },
    {
     "name": "stdout",
     "output_type": "stream",
     "text": [
      "\n"
     ]
    },
    {
     "data": {
      "text/plain": [
       "(DatasetDict({\n",
       "     train: Dataset({\n",
       "         features: ['id', 'translation'],\n",
       "         num_rows: 138253\n",
       "     })\n",
       " }),\n",
       " {'id': '0',\n",
       "  'translation': {'en': 'In the name of Allah, most benevolent, ever-merciful.',\n",
       "   'sw': 'KWA JINA LA MWENYEZI MUNGU MWINGI WA REHEMA MWENYE KUREHEMU.'}})"
      ]
     },
     "execution_count": 33,
     "metadata": {},
     "output_type": "execute_result"
    }
   ],
   "source": [
    "ds_sw_tanzil = load_dataset(\"tanzil\", lang1=\"en\", lang2=\"sw\")\n",
    "ds_sw_tanzil, ds_sw_tanzil['train'][0]"
   ]
  },
  {
   "cell_type": "markdown",
   "metadata": {},
   "source": [
    "# Additional text: rw - Kinyarwanda"
   ]
  },
  {
   "cell_type": "code",
   "execution_count": 37,
   "metadata": {},
   "outputs": [
    {
     "name": "stdout",
     "output_type": "stream",
     "text": [
      "Downloading and preparing dataset kinnews_kirnews/kinnews_cleaned (download: 26.11 MiB, generated: 39.10 MiB, post-processed: Unknown size, total: 65.21 MiB) to /home/yjernite/.cache/huggingface/datasets/kinnews_kirnews/kinnews_cleaned/0.0.0/f51a8e4cd08b53f8b08510bbb9d07edc38e9cd7032ffaea2216952be87f35050...\n"
     ]
    },
    {
     "data": {
      "application/vnd.jupyter.widget-view+json": {
       "model_id": "7a90383023424889aa6340854a4f65ee",
       "version_major": 2,
       "version_minor": 0
      },
      "text/plain": [
       "HBox(children=(FloatProgress(value=0.0, description='Downloading', max=27377755.0, style=ProgressStyle(descrip…"
      ]
     },
     "metadata": {},
     "output_type": "display_data"
    },
    {
     "name": "stdout",
     "output_type": "stream",
     "text": [
      "\n"
     ]
    },
    {
     "data": {
      "application/vnd.jupyter.widget-view+json": {
       "model_id": "",
       "version_major": 2,
       "version_minor": 0
      },
      "text/plain": [
       "HBox(children=(FloatProgress(value=1.0, bar_style='info', layout=Layout(width='20px'), max=1.0), HTML(value=''…"
      ]
     },
     "metadata": {},
     "output_type": "display_data"
    },
    {
     "data": {
      "application/vnd.jupyter.widget-view+json": {
       "model_id": "",
       "version_major": 2,
       "version_minor": 0
      },
      "text/plain": [
       "HBox(children=(FloatProgress(value=1.0, bar_style='info', layout=Layout(width='20px'), max=1.0), HTML(value=''…"
      ]
     },
     "metadata": {},
     "output_type": "display_data"
    },
    {
     "name": "stdout",
     "output_type": "stream",
     "text": [
      "Dataset kinnews_kirnews downloaded and prepared to /home/yjernite/.cache/huggingface/datasets/kinnews_kirnews/kinnews_cleaned/0.0.0/f51a8e4cd08b53f8b08510bbb9d07edc38e9cd7032ffaea2216952be87f35050. Subsequent calls will reuse this data.\n"
     ]
    },
    {
     "data": {
      "application/vnd.jupyter.widget-view+json": {
       "model_id": "10a8c90e2bfe4b97b7c87ddf0bf5bf26",
       "version_major": 2,
       "version_minor": 0
      },
      "text/plain": [
       "HBox(children=(FloatProgress(value=0.0, max=2.0), HTML(value='')))"
      ]
     },
     "metadata": {},
     "output_type": "display_data"
    },
    {
     "name": "stdout",
     "output_type": "stream",
     "text": [
      "\n"
     ]
    },
    {
     "data": {
      "text/plain": [
       "(DatasetDict({\n",
       "     train: Dataset({\n",
       "         features: ['label', 'title', 'content'],\n",
       "         num_rows: 17014\n",
       "     })\n",
       "     test: Dataset({\n",
       "         features: ['label', 'title', 'content'],\n",
       "         num_rows: 4254\n",
       "     })\n",
       " }),\n",
       " {'label': 2,\n",
       "  'title': 'bugesera nyuma y’inzara yaharanzwe karahahira utundi turere',\n",
       "  'content': 'mu myaka yashize cyane cyane umwaka w’ akarere bugesera kagaragayemo ikibazo cy’amapfa akabije hari abantu bicwaga n’inzara abandi bagasuhukamuri gihe uhatembereye ushobora kugira amateka cyangwa se amakabyankuru y’abantu abenshi baturage hari bahatuye nibo bivugira kibazo cy’inzara kihaherutseniyonzima joseph w’imyaka utuye murenge nyamata akagari maranyundo amaze imyaka aka karere avuga inzara yatangiye kugaragara bugesera mpera y’ ariko ikaza gukaza umurego mwaka w’ avuga gihe ibintu byose byari byarabuze biryo mvaruganda kugeza bijumba bihingiragaagira umva ibijumba ibijumba gihe inaha byaribwaga n’umuntu ufite imodoka ndakubwiza ukuri mukene wapfaga kubyigondera niyonzima yongeraho impamvu yateraga byose izuba ryari ryaracanye buryo batirirwaga bahinga n’uwahinganga ntiyeze avuga igihe ahantu hapfaga kwera ibijumba hari bishanga kandi byajyaga kubageraho byahenze yongeraho mwaka w’ abantu bishwe n’inzara buryo bukabije duce twa gashora ngenda gahembe maranyundo abandi barasuhuka ati gihe abagabo benshi barahungaga kubera kubura bagaburira imiryango abagore bakishyira migozi kubera kubura bagaburira abana mukanzaramba feresita umugore w’imyaka y’amavuko atuye murenge mayange avuga ikintu cyaje kubarokora bugesera haje imishinga n’imwe igatangira kubaha imfashanyo z’ibiribwaagira muri gihe tutarabona imfashanyo amahirwe yasekeraga yabonaga rukacarara icyo gihe twayitaga shira umuteto kuko mbere wasangaga hari abantu batarya umutsima w’amasaka gusa abatuye aka gace bavuga ibintu bisa n’ibyasubiye buryo kuko imyaka irera abantu bakabona ibiryo bavuga ufite inoti y’igihumbi urya amanywa n’ijoro nyirabitanga jolie utuye bugesera avuga nzara ikiharangwa aka karere gahagaze neza isoko ibintu biraboneka ibiboneka kurusha ibindi harimo imboga ibishyimbo imyumbati inanasi ibigori n’ibindi ugeze isoko nyamata gice gicururizwamo imboga abacuruzi bazo nabo bemeza imboga ziboneka bwinshi mukarwema annonciata umucuruzi soko nyamata umaze imyaka igera acuruza avuga ibicuruzwa byabonetse nyuma y’aho mbere gucuruza byasaga n’ibigoranye kubera baburaga barangurira agira ibintu biriho ikibigaragaza inyanya intoryi n’izindi kandi urabona hano isoko abacuruza imboga babaye benshi kandi n’abo tundi turere basigaye baza kurangura hano aganira kigalitodaycom rwagaju louis uyobora akarere bugesera avuga icyatumye inzara igabanuka aka karere leta yafashe ingamba gutera ibiti n’amashyamba hirya hino kariya gace avuga iterwa ry’ibiti ryatumye imvura itangira kugwa n’imyaka ikaboneraho gutangira kwera ati ubu hari ibicuruzwa abacuruzi b’ i kigali baza kurangura inaha ndetse nubu dufitanye ubuhahirane n’intara kirundo gihugu cy’u burundi yongeraho byose babigezeho bakangurira abaturage gukora cyane guhinga kuzigama gukora imirimo itegamiye buhinzi gusa muri ako karere hari igihe cyageze bitoroshye kubona n’igiti kubera izuba ryari ryarahibasiye umuntu yashoboraga gusanga amatungo yapfiriye nzira kubera kubura ubwatsi n’amazi kuko hendaga kuba ubutayu egide kayiranga'})"
      ]
     },
     "execution_count": 37,
     "metadata": {},
     "output_type": "execute_result"
    }
   ],
   "source": [
    "ds_rw_kinnews_kirnews = load_dataset(\"kinnews_kirnews\", \"kinnews_cleaned\")\n",
    "ds_rw_kinnews_kirnews, ds_rw_kinnews_kirnews['train'][0]"
   ]
  },
  {
   "cell_type": "markdown",
   "metadata": {},
   "source": [
    "# Additional text: rn - Kirundi"
   ]
  },
  {
   "cell_type": "code",
   "execution_count": 38,
   "metadata": {},
   "outputs": [
    {
     "name": "stderr",
     "output_type": "stream",
     "text": [
      "Reusing dataset kinnews_kirnews (/home/yjernite/.cache/huggingface/datasets/kinnews_kirnews/kirnews_cleaned/0.0.0/f51a8e4cd08b53f8b08510bbb9d07edc38e9cd7032ffaea2216952be87f35050)\n"
     ]
    },
    {
     "data": {
      "application/vnd.jupyter.widget-view+json": {
       "model_id": "a4746abd888443b5ad85fe75c26e6141",
       "version_major": 2,
       "version_minor": 0
      },
      "text/plain": [
       "HBox(children=(FloatProgress(value=0.0, max=2.0), HTML(value='')))"
      ]
     },
     "metadata": {},
     "output_type": "display_data"
    },
    {
     "name": "stdout",
     "output_type": "stream",
     "text": [
      "\n"
     ]
    },
    {
     "data": {
      "text/plain": [
       "(DatasetDict({\n",
       "     train: Dataset({\n",
       "         features: ['label', 'title', 'content'],\n",
       "         num_rows: 3689\n",
       "     })\n",
       "     test: Dataset({\n",
       "         features: ['label', 'title', 'content'],\n",
       "         num_rows: 923\n",
       "     })\n",
       " }),\n",
       " {'label': 0,\n",
       "  'title': 'denise nkurunziza yoba yajanwe kenya kuvurwa coronavirus',\n",
       "  'content': 'umutambukanyi w’umukuru w’igihugu c’uburundi akaba akandi yiteguriye gusohoka butegetsi ariwe denise bucumi nkurunziza yajanwe gihugu ca kenya inyuma kwandura umugera coronavirus ibinyamakuru vya kenya biremeza nkuru denise nkurunziza yuriye indege ejo musi kane mwibanga ntangere ajanwe bitaro vyigenga biri kenya avurwe covid- ikinyamakuru kimwe kinavuga mbere nabakaozi bakorera kibuga c’indege ca bujumbura batemerewe kwegera nyandiko bucumi denise kuja kenya bikavurwa kandi yagiye ajanye n’aba garde-corps biwe batatu umwe muribo akaba yaranduye uyo mugera covid- naho makuru yagizwe ibanga ntangere biraboneka ibinyamakuru vyo kenya vyovyo vyaciye bibona icajanye denise bucumi gihugu ca kenya ukwivuze coronavirus umushiikiranganji thadee ndikumana yahakanye yagiye kenya kwivuza coronavirus rusama ibinyamakuru vya kenya vyemeza yagiyeyo kwivuza covid- sources httpsmetropoltvcokeburundis-ex-first-lady-airlifted-to-kenya-after-contracting-covid- httpssonkonewscomburundi-first-lady-airlifted-kenya-covid- httpscitizentvcokenewsburundi-first-lady-evacuated-to-kenya-after-contracting-covid--'})"
      ]
     },
     "execution_count": 38,
     "metadata": {},
     "output_type": "execute_result"
    }
   ],
   "source": [
    "ds_rn_kinnews_kirnews = load_dataset(\"kinnews_kirnews\", \"kirnews_cleaned\")\n",
    "ds_rn_kinnews_kirnews, ds_rn_kinnews_kirnews['train'][0]"
   ]
  },
  {
   "cell_type": "markdown",
   "metadata": {},
   "source": [
    "# Additional text: ig - Igbo"
   ]
  },
  {
   "cell_type": "code",
   "execution_count": 42,
   "metadata": {},
   "outputs": [
    {
     "name": "stdout",
     "output_type": "stream",
     "text": [
      "Downloading and preparing dataset igbo_english_machine_translation/ig-en (download: 2.46 MiB, generated: 2.60 MiB, post-processed: Unknown size, total: 5.06 MiB) to /home/yjernite/.cache/huggingface/datasets/igbo_english_machine_translation/ig-en/1.0.0/34e73946571d249f7108a2bbf74811f7adb6c1c8d712bbcec041e1033c16b3ef...\n"
     ]
    },
    {
     "data": {
      "application/vnd.jupyter.widget-view+json": {
       "model_id": "",
       "version_major": 2,
       "version_minor": 0
      },
      "text/plain": [
       "HBox(children=(FloatProgress(value=1.0, bar_style='info', layout=Layout(width='20px'), max=1.0), HTML(value=''…"
      ]
     },
     "metadata": {},
     "output_type": "display_data"
    },
    {
     "data": {
      "application/vnd.jupyter.widget-view+json": {
       "model_id": "",
       "version_major": 2,
       "version_minor": 0
      },
      "text/plain": [
       "HBox(children=(FloatProgress(value=1.0, bar_style='info', layout=Layout(width='20px'), max=1.0), HTML(value=''…"
      ]
     },
     "metadata": {},
     "output_type": "display_data"
    },
    {
     "data": {
      "application/vnd.jupyter.widget-view+json": {
       "model_id": "",
       "version_major": 2,
       "version_minor": 0
      },
      "text/plain": [
       "HBox(children=(FloatProgress(value=1.0, bar_style='info', layout=Layout(width='20px'), max=1.0), HTML(value=''…"
      ]
     },
     "metadata": {},
     "output_type": "display_data"
    },
    {
     "name": "stdout",
     "output_type": "stream",
     "text": [
      "Dataset igbo_english_machine_translation downloaded and prepared to /home/yjernite/.cache/huggingface/datasets/igbo_english_machine_translation/ig-en/1.0.0/34e73946571d249f7108a2bbf74811f7adb6c1c8d712bbcec041e1033c16b3ef. Subsequent calls will reuse this data.\n"
     ]
    },
    {
     "data": {
      "application/vnd.jupyter.widget-view+json": {
       "model_id": "78e0d09858d44b13b7a75d2c2438e97e",
       "version_major": 2,
       "version_minor": 0
      },
      "text/plain": [
       "HBox(children=(FloatProgress(value=0.0, max=3.0), HTML(value='')))"
      ]
     },
     "metadata": {},
     "output_type": "display_data"
    },
    {
     "name": "stdout",
     "output_type": "stream",
     "text": [
      "\n"
     ]
    },
    {
     "data": {
      "text/plain": [
       "(DatasetDict({\n",
       "     train: Dataset({\n",
       "         features: ['id', 'translation'],\n",
       "         num_rows: 10000\n",
       "     })\n",
       "     validation: Dataset({\n",
       "         features: ['id', 'translation'],\n",
       "         num_rows: 193\n",
       "     })\n",
       "     test: Dataset({\n",
       "         features: ['id', 'translation'],\n",
       "         num_rows: 552\n",
       "     })\n",
       " }),\n",
       " {'id': '0',\n",
       "  'translation': {'en': 'The news that will interest you:',\n",
       "   'ig': 'Akụkọ ndị ga-amasị gị:'}})"
      ]
     },
     "execution_count": 42,
     "metadata": {},
     "output_type": "execute_result"
    }
   ],
   "source": [
    "ds_ig_igbo_english_machine_translation = load_dataset(\"igbo_english_machine_translation\", ignore_verifications=True)\n",
    "ds_ig_igbo_english_machine_translation, ds_ig_igbo_english_machine_translation['train'][0]"
   ]
  },
  {
   "cell_type": "code",
   "execution_count": 43,
   "metadata": {},
   "outputs": [
    {
     "data": {
      "application/vnd.jupyter.widget-view+json": {
       "model_id": "b796b24edb944f959943aae35aa102ef",
       "version_major": 2,
       "version_minor": 0
      },
      "text/plain": [
       "HBox(children=(FloatProgress(value=0.0, description='Downloading', max=2015.0, style=ProgressStyle(description…"
      ]
     },
     "metadata": {},
     "output_type": "display_data"
    },
    {
     "name": "stdout",
     "output_type": "stream",
     "text": [
      "\n"
     ]
    },
    {
     "data": {
      "application/vnd.jupyter.widget-view+json": {
       "model_id": "0fa89313ef694154ae9094247c940d57",
       "version_major": 2,
       "version_minor": 0
      },
      "text/plain": [
       "HBox(children=(FloatProgress(value=0.0, description='Downloading', max=1142.0, style=ProgressStyle(description…"
      ]
     },
     "metadata": {},
     "output_type": "display_data"
    },
    {
     "name": "stdout",
     "output_type": "stream",
     "text": [
      "\n",
      "Downloading and preparing dataset igbo_monolingual/bbc-igbo (download: 7.88 MiB, generated: 3.33 MiB, post-processed: Unknown size, total: 11.21 MiB) to /home/yjernite/.cache/huggingface/datasets/igbo_monolingual/bbc-igbo/1.1.0/3e1c197245d23a42fa4d88ae167730275b8878fc9e0b5322153f3ca387781b17...\n"
     ]
    },
    {
     "data": {
      "application/vnd.jupyter.widget-view+json": {
       "model_id": "6e2d6b1a09594930877cf6ad9ff407cb",
       "version_major": 2,
       "version_minor": 0
      },
      "text/plain": [
       "HBox(children=(FloatProgress(value=0.0, description='Downloading', max=8260947.0, style=ProgressStyle(descript…"
      ]
     },
     "metadata": {},
     "output_type": "display_data"
    },
    {
     "name": "stdout",
     "output_type": "stream",
     "text": [
      "\n"
     ]
    },
    {
     "data": {
      "application/vnd.jupyter.widget-view+json": {
       "model_id": "",
       "version_major": 2,
       "version_minor": 0
      },
      "text/plain": [
       "HBox(children=(FloatProgress(value=1.0, bar_style='info', layout=Layout(width='20px'), max=1.0), HTML(value=''…"
      ]
     },
     "metadata": {},
     "output_type": "display_data"
    },
    {
     "name": "stdout",
     "output_type": "stream",
     "text": [
      "Dataset igbo_monolingual downloaded and prepared to /home/yjernite/.cache/huggingface/datasets/igbo_monolingual/bbc-igbo/1.1.0/3e1c197245d23a42fa4d88ae167730275b8878fc9e0b5322153f3ca387781b17. Subsequent calls will reuse this data.\n"
     ]
    },
    {
     "data": {
      "application/vnd.jupyter.widget-view+json": {
       "model_id": "67db79a9025a40b7872c6334c2b570de",
       "version_major": 2,
       "version_minor": 0
      },
      "text/plain": [
       "HBox(children=(FloatProgress(value=0.0, max=1.0), HTML(value='')))"
      ]
     },
     "metadata": {},
     "output_type": "display_data"
    },
    {
     "name": "stdout",
     "output_type": "stream",
     "text": [
      "\n"
     ]
    },
    {
     "data": {
      "text/plain": [
       "(DatasetDict({\n",
       "     train: Dataset({\n",
       "         features: ['source', 'title', 'description', 'date', 'headline', 'content', 'tags'],\n",
       "         num_rows: 1297\n",
       "     })\n",
       " }),\n",
       " {'source': 'https://www.bbc.com/igbo/live/afirika-49233269',\n",
       "  'title': 'Sowore Revolution: Ka ekwe si akụ maka ngagharịiwe e ji maka ya nwụchie Sowore',\n",
       "  'description': 'BBC Igbo kwụ chịm iwetara gị ihe na-aga ka a na-ekwu okwu ngagharịiwe na mpaghara dị iche iche na Naịjirịa.',\n",
       "  'date': '',\n",
       "  'headline': '',\n",
       "  'content': '',\n",
       "  'tags': []})"
      ]
     },
     "execution_count": 43,
     "metadata": {},
     "output_type": "execute_result"
    }
   ],
   "source": [
    "ds_ig_igbo_monolingual_bbc = load_dataset(\"igbo_monolingual\", \"bbc-igbo\")\n",
    "ds_ig_igbo_monolingual_bbc, ds_ig_igbo_monolingual_bbc['train'][0]"
   ]
  },
  {
   "cell_type": "code",
   "execution_count": 44,
   "metadata": {},
   "outputs": [
    {
     "name": "stdout",
     "output_type": "stream",
     "text": [
      "Downloading and preparing dataset igbo_monolingual/igbo-radio (download: 7.88 MiB, generated: 1.08 MiB, post-processed: Unknown size, total: 8.96 MiB) to /home/yjernite/.cache/huggingface/datasets/igbo_monolingual/igbo-radio/1.1.0/3e1c197245d23a42fa4d88ae167730275b8878fc9e0b5322153f3ca387781b17...\n"
     ]
    },
    {
     "data": {
      "application/vnd.jupyter.widget-view+json": {
       "model_id": "",
       "version_major": 2,
       "version_minor": 0
      },
      "text/plain": [
       "HBox(children=(FloatProgress(value=1.0, bar_style='info', layout=Layout(width='20px'), max=1.0), HTML(value=''…"
      ]
     },
     "metadata": {},
     "output_type": "display_data"
    },
    {
     "name": "stdout",
     "output_type": "stream",
     "text": [
      "Dataset igbo_monolingual downloaded and prepared to /home/yjernite/.cache/huggingface/datasets/igbo_monolingual/igbo-radio/1.1.0/3e1c197245d23a42fa4d88ae167730275b8878fc9e0b5322153f3ca387781b17. Subsequent calls will reuse this data.\n"
     ]
    },
    {
     "data": {
      "application/vnd.jupyter.widget-view+json": {
       "model_id": "abfb06f0d6a442da8e37ce11efd78347",
       "version_major": 2,
       "version_minor": 0
      },
      "text/plain": [
       "HBox(children=(FloatProgress(value=0.0, max=1.0), HTML(value='')))"
      ]
     },
     "metadata": {},
     "output_type": "display_data"
    },
    {
     "name": "stdout",
     "output_type": "stream",
     "text": [
      "\n"
     ]
    },
    {
     "data": {
      "text/plain": [
       "(DatasetDict({\n",
       "     train: Dataset({\n",
       "         features: ['source', 'headline', 'author', 'date', 'description', 'content'],\n",
       "         num_rows: 440\n",
       "     })\n",
       " }),\n",
       " {'source': 'https://www.igboradio.com/index.php/akuko-uwa/22-amerika/243-whitney-houston-anwuola',\n",
       "  'headline': 'Whitney Houston anwuola',\n",
       "  'author': 'Chidi Igwe',\n",
       "  'date': '2011-11-15T00:00:00Z',\n",
       "  'description': 'Otu nwanyị olu ọma, onye Amerịka, a ma ama maka ịgụ egwu, bụ Whitney Houston, anwụọla. E butere ozu Whitney n’ime ụlọ oriri n’ọñụñụ Beverly Hilton.',\n",
       "  'content': 'A ma Whitney ama maka olu ọma ya. Ọ gbara afọ 48 tupu ọnwụ egbuo ya. Tupu ọ nwụọ, ọ gara na mpaghara Hollywood ebe a na-eme mmemme nturu ugo Grammy. Grammy bụ otu n’ime mmemme ndị a na-eji etuwe ndị aka ha pụtara ihe n’ịkụ egwu ugo.\\n\\nA na-ekwu na a hụrụ Whiteney anya ịkpazụ n’ụbọchị Tọzdee mgbe ọ gụchara nwa obere egwu n’ebe ahụ a na-eme mmemme Grammy. A hụkwara ya anya ọzọ na mgbede Fraịdee ebe ya na ndị enyi ya na-enwe añụrị n’ụlọ oriri n’ọñụñụ Beverly Hilton.'})"
      ]
     },
     "execution_count": 44,
     "metadata": {},
     "output_type": "execute_result"
    }
   ],
   "source": [
    "ds_ig_igbo_monolingual_radio = load_dataset(\"igbo_monolingual\", \"igbo-radio\")\n",
    "ds_ig_igbo_monolingual_radio, ds_ig_igbo_monolingual_radio['train'][0]"
   ]
  },
  {
   "cell_type": "markdown",
   "metadata": {},
   "source": [
    "# Additional text: zu - Zulu"
   ]
  },
  {
   "cell_type": "code",
   "execution_count": 52,
   "metadata": {},
   "outputs": [
    {
     "name": "stderr",
     "output_type": "stream",
     "text": [
      "Reusing dataset autshumato (/home/yjernite/.cache/huggingface/datasets/autshumato/autshumato-en-zu/1.0.0/285ffbf61b9615ec01834be87064c6d8a55e6a1ba96818c96f705f1f366a51db)\n"
     ]
    },
    {
     "data": {
      "application/vnd.jupyter.widget-view+json": {
       "model_id": "3f3bc2e2a898498e8cffedf0c6c67d9d",
       "version_major": 2,
       "version_minor": 0
      },
      "text/plain": [
       "HBox(children=(FloatProgress(value=0.0, max=1.0), HTML(value='')))"
      ]
     },
     "metadata": {},
     "output_type": "display_data"
    },
    {
     "name": "stdout",
     "output_type": "stream",
     "text": [
      "\n"
     ]
    },
    {
     "data": {
      "text/plain": [
       "(DatasetDict({\n",
       "     train: Dataset({\n",
       "         features: ['translation'],\n",
       "         num_rows: 35489\n",
       "     })\n",
       " }),\n",
       " {'translation': {'en': 'freedom of artistic creativity ;',\n",
       "   'zu': 'inkululeko yokwakha izinto ngokusebenzisa ubuciko;'}})"
      ]
     },
     "execution_count": 52,
     "metadata": {},
     "output_type": "execute_result"
    }
   ],
   "source": [
    "ds_zu_autshumato = load_dataset(\"autshumato\", \"autshumato-en-zu\")\n",
    "ds_zu_autshumato, ds_zu_autshumato['train'][0]"
   ]
  },
  {
   "cell_type": "markdown",
   "metadata": {},
   "source": [
    "# Make tokenization Dataset"
   ]
  },
  {
   "cell_type": "code",
   "execution_count": 58,
   "metadata": {},
   "outputs": [
    {
     "name": "stderr",
     "output_type": "stream",
     "text": [
      "Using custom data configuration default\n",
      "Reusing dataset bloom_lm (/home/yjernite/.cache/huggingface/datasets/bigscience-catalogue-lm-data___bloom_lm/default/0.1.0/99e7f84602f16ab24b9ca6d19164a8dbd5b2c77920d31024f872611ada67274d)\n"
     ]
    },
    {
     "data": {
      "application/vnd.jupyter.widget-view+json": {
       "model_id": "7ce9c4026ccc4db0b0213d8c47bccdef",
       "version_major": 2,
       "version_minor": 0
      },
      "text/plain": [
       "HBox(children=(FloatProgress(value=0.0, max=1.0), HTML(value='')))"
      ]
     },
     "metadata": {},
     "output_type": "display_data"
    },
    {
     "name": "stdout",
     "output_type": "stream",
     "text": [
      "\n"
     ]
    },
    {
     "name": "stderr",
     "output_type": "stream",
     "text": [
      "Using custom data configuration default\n",
      "Reusing dataset bloom_lm (/home/yjernite/.cache/huggingface/datasets/bigscience-catalogue-lm-data___bloom_lm/default/0.1.0/feca6d0ba6cebb98cfd841ecede9e9e4b8397a44fd095976348f2fa1c53e4019)\n"
     ]
    },
    {
     "data": {
      "application/vnd.jupyter.widget-view+json": {
       "model_id": "ead8798351754113ab1d424e6b34f951",
       "version_major": 2,
       "version_minor": 0
      },
      "text/plain": [
       "HBox(children=(FloatProgress(value=0.0, max=1.0), HTML(value='')))"
      ]
     },
     "metadata": {},
     "output_type": "display_data"
    },
    {
     "name": "stdout",
     "output_type": "stream",
     "text": [
      "\n"
     ]
    },
    {
     "name": "stderr",
     "output_type": "stream",
     "text": [
      "Using custom data configuration default\n",
      "Reusing dataset bloom_lm (/home/yjernite/.cache/huggingface/datasets/bigscience-catalogue-lm-data___bloom_lm/default/0.1.0/654a7df25741b0e946f1e855dfe917899fc794d50015fce647837d392f61c4a4)\n"
     ]
    },
    {
     "data": {
      "application/vnd.jupyter.widget-view+json": {
       "model_id": "24f695ad6fe64976904855bc27f848c8",
       "version_major": 2,
       "version_minor": 0
      },
      "text/plain": [
       "HBox(children=(FloatProgress(value=0.0, max=1.0), HTML(value='')))"
      ]
     },
     "metadata": {},
     "output_type": "display_data"
    },
    {
     "name": "stdout",
     "output_type": "stream",
     "text": [
      "\n"
     ]
    },
    {
     "name": "stderr",
     "output_type": "stream",
     "text": [
      "Using custom data configuration default\n",
      "Reusing dataset lm_nigercongo_fon_ffr (/home/yjernite/.cache/huggingface/datasets/bigscience-catalogue-lm-data___lm_nigercongo_fon_ffr/default/2.0.0/f80b396d4f042acf5a23642ef7ad294cc2617e1a1ff4facd3c4239279fcbeca5)\n"
     ]
    },
    {
     "data": {
      "application/vnd.jupyter.widget-view+json": {
       "model_id": "3101f70a21da492caac9f9dc2c8a1e44",
       "version_major": 2,
       "version_minor": 0
      },
      "text/plain": [
       "HBox(children=(FloatProgress(value=0.0, max=1.0), HTML(value='')))"
      ]
     },
     "metadata": {},
     "output_type": "display_data"
    },
    {
     "name": "stdout",
     "output_type": "stream",
     "text": [
      "\n"
     ]
    },
    {
     "name": "stderr",
     "output_type": "stream",
     "text": [
      "Using custom data configuration default\n",
      "Reusing dataset masakhaner (/home/yjernite/.cache/huggingface/datasets/bigscience-catalogue-lm-data___masakhaner/default/0.0.0/11e469e6210d0745fd7809d41cd940203dceb0d685d8b9700801a3e9c8cf4f4e)\n"
     ]
    },
    {
     "data": {
      "application/vnd.jupyter.widget-view+json": {
       "model_id": "1e889033f8ee46c4bdaa0c41d6226c3b",
       "version_major": 2,
       "version_minor": 0
      },
      "text/plain": [
       "HBox(children=(FloatProgress(value=0.0, max=3.0), HTML(value='')))"
      ]
     },
     "metadata": {},
     "output_type": "display_data"
    },
    {
     "name": "stdout",
     "output_type": "stream",
     "text": [
      "\n"
     ]
    },
    {
     "name": "stderr",
     "output_type": "stream",
     "text": [
      "Using custom data configuration default\n",
      "Reusing dataset opus100 (/home/yjernite/.cache/huggingface/datasets/bigscience-catalogue-lm-data___opus100/default/1.0.0/42a317585d8d6e794aece86564f91652bc4fc9c6e24b23490057a294f214bbe8)\n"
     ]
    },
    {
     "data": {
      "application/vnd.jupyter.widget-view+json": {
       "model_id": "a76d6203e94e45c7ba18d4efa333ff5a",
       "version_major": 2,
       "version_minor": 0
      },
      "text/plain": [
       "HBox(children=(FloatProgress(value=0.0, max=3.0), HTML(value='')))"
      ]
     },
     "metadata": {},
     "output_type": "display_data"
    },
    {
     "name": "stdout",
     "output_type": "stream",
     "text": [
      "\n"
     ]
    },
    {
     "name": "stderr",
     "output_type": "stream",
     "text": [
      "Using custom data configuration default\n",
      "Reusing dataset bloom_lm (/home/yjernite/.cache/huggingface/datasets/bigscience-catalogue-lm-data___bloom_lm/default/0.1.0/5521a04d2dc4dbd45907eda27e6b5a7dc34a21a38440bddb10a6946302d86a55)\n"
     ]
    },
    {
     "data": {
      "application/vnd.jupyter.widget-view+json": {
       "model_id": "bc60f3d7533345b0882f6e46fc25c1c9",
       "version_major": 2,
       "version_minor": 0
      },
      "text/plain": [
       "HBox(children=(FloatProgress(value=0.0, max=1.0), HTML(value='')))"
      ]
     },
     "metadata": {},
     "output_type": "display_data"
    },
    {
     "name": "stdout",
     "output_type": "stream",
     "text": [
      "\n"
     ]
    },
    {
     "name": "stderr",
     "output_type": "stream",
     "text": [
      "Using custom data configuration default\n",
      "Reusing dataset bloom_lm (/home/yjernite/.cache/huggingface/datasets/bigscience-catalogue-lm-data___bloom_lm/default/0.1.0/545b64757fab332e52e303772d347aceb8108eb0aee71f6a9c61d2b379e723f6)\n"
     ]
    },
    {
     "data": {
      "application/vnd.jupyter.widget-view+json": {
       "model_id": "8a0a505342d141b28775bedb745b546c",
       "version_major": 2,
       "version_minor": 0
      },
      "text/plain": [
       "HBox(children=(FloatProgress(value=0.0, max=1.0), HTML(value='')))"
      ]
     },
     "metadata": {},
     "output_type": "display_data"
    },
    {
     "name": "stdout",
     "output_type": "stream",
     "text": [
      "\n"
     ]
    },
    {
     "name": "stderr",
     "output_type": "stream",
     "text": [
      "Using custom data configuration default\n",
      "Reusing dataset masakhaner (/home/yjernite/.cache/huggingface/datasets/bigscience-catalogue-lm-data___masakhaner/default/0.0.0/c7da4bdbb39acadf26895c7369fb139aad224026bc6dbca9b7b5e42193c5ed8e)\n"
     ]
    },
    {
     "data": {
      "application/vnd.jupyter.widget-view+json": {
       "model_id": "15250b665228465ca878bd4219aa3cfe",
       "version_major": 2,
       "version_minor": 0
      },
      "text/plain": [
       "HBox(children=(FloatProgress(value=0.0, max=3.0), HTML(value='')))"
      ]
     },
     "metadata": {},
     "output_type": "display_data"
    },
    {
     "name": "stdout",
     "output_type": "stream",
     "text": [
      "\n"
     ]
    },
    {
     "name": "stderr",
     "output_type": "stream",
     "text": [
      "Using custom data configuration default\n",
      "Reusing dataset bloom_lm (/home/yjernite/.cache/huggingface/datasets/bigscience-catalogue-lm-data___bloom_lm/default/0.1.0/cd3014f10de28443ce9aa2a2eee64111ca0e7134d942887f5e959c69b98037d2)\n"
     ]
    },
    {
     "data": {
      "application/vnd.jupyter.widget-view+json": {
       "model_id": "4e962b0a8c1b407f95e183182230f2b2",
       "version_major": 2,
       "version_minor": 0
      },
      "text/plain": [
       "HBox(children=(FloatProgress(value=0.0, max=1.0), HTML(value='')))"
      ]
     },
     "metadata": {},
     "output_type": "display_data"
    },
    {
     "name": "stdout",
     "output_type": "stream",
     "text": [
      "\n"
     ]
    },
    {
     "name": "stderr",
     "output_type": "stream",
     "text": [
      "Using custom data configuration default\n",
      "Reusing dataset bloom_lm (/home/yjernite/.cache/huggingface/datasets/bigscience-catalogue-lm-data___bloom_lm/default/0.1.0/cfbe0fcb3e68600d998d7564508088c5b33805c9fe0e618af6b14c13107ea2ae)\n"
     ]
    },
    {
     "data": {
      "application/vnd.jupyter.widget-view+json": {
       "model_id": "730b64efdfc34b2f9b4ab9f2bcae978c",
       "version_major": 2,
       "version_minor": 0
      },
      "text/plain": [
       "HBox(children=(FloatProgress(value=0.0, max=1.0), HTML(value='')))"
      ]
     },
     "metadata": {},
     "output_type": "display_data"
    },
    {
     "name": "stdout",
     "output_type": "stream",
     "text": [
      "\n"
     ]
    },
    {
     "name": "stderr",
     "output_type": "stream",
     "text": [
      "Using custom data configuration default\n",
      "Reusing dataset bloom_lm (/home/yjernite/.cache/huggingface/datasets/bigscience-catalogue-lm-data___bloom_lm/default/0.1.0/7c5f6bd606e7581c96e5ec36b3778624a7e7c1bf38ec8b6dd13c2edf8a865c8a)\n"
     ]
    },
    {
     "data": {
      "application/vnd.jupyter.widget-view+json": {
       "model_id": "e7ee85474a9d4e1ebf606a5ae2081ccd",
       "version_major": 2,
       "version_minor": 0
      },
      "text/plain": [
       "HBox(children=(FloatProgress(value=0.0, max=1.0), HTML(value='')))"
      ]
     },
     "metadata": {},
     "output_type": "display_data"
    },
    {
     "name": "stdout",
     "output_type": "stream",
     "text": [
      "\n"
     ]
    },
    {
     "name": "stderr",
     "output_type": "stream",
     "text": [
      "Using custom data configuration default\n",
      "Reusing dataset masakhaner (/home/yjernite/.cache/huggingface/datasets/bigscience-catalogue-lm-data___masakhaner/default/0.0.0/3e886a2de9474cdf7d652c752b91254be8ce4bcde0b1fcd3566999b4026bbf1c)\n"
     ]
    },
    {
     "data": {
      "application/vnd.jupyter.widget-view+json": {
       "model_id": "ac535109c5e645a38968805d318b1471",
       "version_major": 2,
       "version_minor": 0
      },
      "text/plain": [
       "HBox(children=(FloatProgress(value=0.0, max=3.0), HTML(value='')))"
      ]
     },
     "metadata": {},
     "output_type": "display_data"
    },
    {
     "name": "stdout",
     "output_type": "stream",
     "text": [
      "\n"
     ]
    },
    {
     "name": "stderr",
     "output_type": "stream",
     "text": [
      "Using custom data configuration default\n",
      "Reusing dataset opus100 (/home/yjernite/.cache/huggingface/datasets/bigscience-catalogue-lm-data___opus100/default/1.0.0/e862f0225ccce18065323d7e2bc457a7de841911a8d3dfd640a6d7100f0c8f2a)\n"
     ]
    },
    {
     "data": {
      "application/vnd.jupyter.widget-view+json": {
       "model_id": "d930b60ed9b148ac9d87e1c2595540c9",
       "version_major": 2,
       "version_minor": 0
      },
      "text/plain": [
       "HBox(children=(FloatProgress(value=0.0, max=3.0), HTML(value='')))"
      ]
     },
     "metadata": {},
     "output_type": "display_data"
    },
    {
     "name": "stdout",
     "output_type": "stream",
     "text": [
      "\n"
     ]
    },
    {
     "name": "stderr",
     "output_type": "stream",
     "text": [
      "Using custom data configuration default\n",
      "Reusing dataset bloom_lm (/home/yjernite/.cache/huggingface/datasets/bigscience-catalogue-lm-data___bloom_lm/default/0.1.0/50307026cfb3d350ac5e212d143b9ca6fdffc5a18eefe0d19d0c0c5ee716d1b8)\n"
     ]
    },
    {
     "data": {
      "application/vnd.jupyter.widget-view+json": {
       "model_id": "922ff5c735794e07b553fdce130b5d74",
       "version_major": 2,
       "version_minor": 0
      },
      "text/plain": [
       "HBox(children=(FloatProgress(value=0.0, max=1.0), HTML(value='')))"
      ]
     },
     "metadata": {},
     "output_type": "display_data"
    },
    {
     "name": "stdout",
     "output_type": "stream",
     "text": [
      "\n"
     ]
    },
    {
     "name": "stderr",
     "output_type": "stream",
     "text": [
      "Using custom data configuration default\n",
      "Reusing dataset bloom_lm (/home/yjernite/.cache/huggingface/datasets/bigscience-catalogue-lm-data___bloom_lm/default/0.1.0/ca5830bfb4d6254665dc2abc5ee61d0afb9661256db9a62cf030c8ec8f9b71ec)\n"
     ]
    },
    {
     "data": {
      "application/vnd.jupyter.widget-view+json": {
       "model_id": "b2e28f7426f841b58d458b1fb0b6c577",
       "version_major": 2,
       "version_minor": 0
      },
      "text/plain": [
       "HBox(children=(FloatProgress(value=0.0, max=1.0), HTML(value='')))"
      ]
     },
     "metadata": {},
     "output_type": "display_data"
    },
    {
     "name": "stdout",
     "output_type": "stream",
     "text": [
      "\n"
     ]
    },
    {
     "name": "stderr",
     "output_type": "stream",
     "text": [
      "Using custom data configuration default\n",
      "Reusing dataset masakhaner (/home/yjernite/.cache/huggingface/datasets/bigscience-catalogue-lm-data___masakhaner/default/0.0.0/1c8bc5efbfb8ee6af9f6346c851b0e6d6d1f10aaa284142ad70c467ca0d246b7)\n"
     ]
    },
    {
     "data": {
      "application/vnd.jupyter.widget-view+json": {
       "model_id": "80e38c11b3ba47708667a035dc207a05",
       "version_major": 2,
       "version_minor": 0
      },
      "text/plain": [
       "HBox(children=(FloatProgress(value=0.0, max=3.0), HTML(value='')))"
      ]
     },
     "metadata": {},
     "output_type": "display_data"
    },
    {
     "name": "stdout",
     "output_type": "stream",
     "text": [
      "\n"
     ]
    },
    {
     "name": "stderr",
     "output_type": "stream",
     "text": [
      "Reusing dataset swahili_news (/home/yjernite/.cache/huggingface/datasets/bigscience-catalogue-lm-data___swahili_news/swahili_news/0.2.0/c87415685813a7c9fb9bf62546af3b75fa73c352c65cec44ff7b553a0c250b5d)\n"
     ]
    },
    {
     "data": {
      "application/vnd.jupyter.widget-view+json": {
       "model_id": "b34eed4b8761408787e11a4c908bdfd5",
       "version_major": 2,
       "version_minor": 0
      },
      "text/plain": [
       "HBox(children=(FloatProgress(value=0.0, max=2.0), HTML(value='')))"
      ]
     },
     "metadata": {},
     "output_type": "display_data"
    },
    {
     "name": "stdout",
     "output_type": "stream",
     "text": [
      "\n"
     ]
    },
    {
     "name": "stderr",
     "output_type": "stream",
     "text": [
      "Using custom data configuration default\n",
      "Reusing dataset ted_talks_iwslt (/home/yjernite/.cache/huggingface/datasets/bigscience-catalogue-lm-data___ted_talks_iwslt/default/1.1.0/4c9c8dfb31c86e00189e5b93610c0ecc95c28fd44f8aa34db72e984effba7e38)\n"
     ]
    },
    {
     "data": {
      "application/vnd.jupyter.widget-view+json": {
       "model_id": "f7f1a49ac8f349daabcdd5fe66d4de9f",
       "version_major": 2,
       "version_minor": 0
      },
      "text/plain": [
       "HBox(children=(FloatProgress(value=0.0, max=1.0), HTML(value='')))"
      ]
     },
     "metadata": {},
     "output_type": "display_data"
    },
    {
     "name": "stdout",
     "output_type": "stream",
     "text": [
      "\n"
     ]
    },
    {
     "name": "stderr",
     "output_type": "stream",
     "text": [
      "Using custom data configuration default\n",
      "Reusing dataset bloom_lm (/home/yjernite/.cache/huggingface/datasets/bigscience-catalogue-lm-data___bloom_lm/default/0.1.0/57aa3eb63d4862f18ce9946ed909b5f0118be26c8c6bc16931cedbb913f7c262)\n"
     ]
    },
    {
     "data": {
      "application/vnd.jupyter.widget-view+json": {
       "model_id": "40f5fa3fa1bf4d049f534ee5d57101fe",
       "version_major": 2,
       "version_minor": 0
      },
      "text/plain": [
       "HBox(children=(FloatProgress(value=0.0, max=1.0), HTML(value='')))"
      ]
     },
     "metadata": {},
     "output_type": "display_data"
    },
    {
     "name": "stdout",
     "output_type": "stream",
     "text": [
      "\n"
     ]
    },
    {
     "name": "stderr",
     "output_type": "stream",
     "text": [
      "Using custom data configuration default\n",
      "Reusing dataset bloom_lm (/home/yjernite/.cache/huggingface/datasets/bigscience-catalogue-lm-data___bloom_lm/default/0.1.0/305e45b38e0cb8cb791a1873cc1965dc7df84cc51f354da44590dab152fa2558)\n"
     ]
    },
    {
     "data": {
      "application/vnd.jupyter.widget-view+json": {
       "model_id": "4957134bb0af45f4a9c0c1492ebf6453",
       "version_major": 2,
       "version_minor": 0
      },
      "text/plain": [
       "HBox(children=(FloatProgress(value=0.0, max=1.0), HTML(value='')))"
      ]
     },
     "metadata": {},
     "output_type": "display_data"
    },
    {
     "name": "stdout",
     "output_type": "stream",
     "text": [
      "\n"
     ]
    },
    {
     "name": "stderr",
     "output_type": "stream",
     "text": [
      "Using custom data configuration default\n",
      "Reusing dataset masakhaner (/home/yjernite/.cache/huggingface/datasets/bigscience-catalogue-lm-data___masakhaner/default/0.0.0/a7e2edefc6da53f9fa5b7e9e6b813f6c119ef1d7c85093f54f89208def01ab0d)\n"
     ]
    },
    {
     "data": {
      "application/vnd.jupyter.widget-view+json": {
       "model_id": "1a71c3375f914dfebba7ae5714ef3adb",
       "version_major": 2,
       "version_minor": 0
      },
      "text/plain": [
       "HBox(children=(FloatProgress(value=0.0, max=3.0), HTML(value='')))"
      ]
     },
     "metadata": {},
     "output_type": "display_data"
    },
    {
     "name": "stdout",
     "output_type": "stream",
     "text": [
      "\n"
     ]
    },
    {
     "name": "stderr",
     "output_type": "stream",
     "text": [
      "Using custom data configuration default\n",
      "Reusing dataset bloom_lm (/home/yjernite/.cache/huggingface/datasets/bigscience-catalogue-lm-data___bloom_lm/default/0.1.0/e52bba8ce3956ebb7bd747571264919374525263cc96d5c79e530ee992ee38f1)\n"
     ]
    },
    {
     "data": {
      "application/vnd.jupyter.widget-view+json": {
       "model_id": "33220f1c814d4439a9926d364413c105",
       "version_major": 2,
       "version_minor": 0
      },
      "text/plain": [
       "HBox(children=(FloatProgress(value=0.0, max=1.0), HTML(value='')))"
      ]
     },
     "metadata": {},
     "output_type": "display_data"
    },
    {
     "name": "stdout",
     "output_type": "stream",
     "text": [
      "\n"
     ]
    },
    {
     "name": "stderr",
     "output_type": "stream",
     "text": [
      "Reusing dataset bookdash_books (/home/yjernite/.cache/huggingface/datasets/bigscience-catalogue-lm-data___bookdash_books/xh/0.0.0/575e907147bb2ababfc2a3a95c6a6a47c864c382bf24dc0ee2c528318c58a4a7)\n"
     ]
    },
    {
     "data": {
      "application/vnd.jupyter.widget-view+json": {
       "model_id": "db93487a82ab452e843e9270c6d6510d",
       "version_major": 2,
       "version_minor": 0
      },
      "text/plain": [
       "HBox(children=(FloatProgress(value=0.0, max=1.0), HTML(value='')))"
      ]
     },
     "metadata": {},
     "output_type": "display_data"
    },
    {
     "name": "stdout",
     "output_type": "stream",
     "text": [
      "\n"
     ]
    },
    {
     "name": "stderr",
     "output_type": "stream",
     "text": [
      "Using custom data configuration default\n",
      "Reusing dataset opus100 (/home/yjernite/.cache/huggingface/datasets/bigscience-catalogue-lm-data___opus100/default/1.0.0/cf2812eb309c96fd55aade2e620b4a59cbae40d33f532aecdb4e59eb9cccf15e)\n"
     ]
    },
    {
     "data": {
      "application/vnd.jupyter.widget-view+json": {
       "model_id": "a03fc6b813d84711b87a51523dc93fb8",
       "version_major": 2,
       "version_minor": 0
      },
      "text/plain": [
       "HBox(children=(FloatProgress(value=0.0, max=3.0), HTML(value='')))"
      ]
     },
     "metadata": {},
     "output_type": "display_data"
    },
    {
     "name": "stdout",
     "output_type": "stream",
     "text": [
      "\n"
     ]
    },
    {
     "name": "stderr",
     "output_type": "stream",
     "text": [
      "Using custom data configuration default\n",
      "Reusing dataset masakhaner (/home/yjernite/.cache/huggingface/datasets/bigscience-catalogue-lm-data___masakhaner/default/0.0.0/882d1ea28f400d6937471d8ce05f2d181f5413aab606464d197df95f735e48c6)\n"
     ]
    },
    {
     "data": {
      "application/vnd.jupyter.widget-view+json": {
       "model_id": "2e1aa1b0ef9b43c29f1bf7b0800a1dc4",
       "version_major": 2,
       "version_minor": 0
      },
      "text/plain": [
       "HBox(children=(FloatProgress(value=0.0, max=3.0), HTML(value='')))"
      ]
     },
     "metadata": {},
     "output_type": "display_data"
    },
    {
     "name": "stdout",
     "output_type": "stream",
     "text": [
      "\n"
     ]
    },
    {
     "name": "stderr",
     "output_type": "stream",
     "text": [
      "Using custom data configuration default\n",
      "Reusing dataset opus100 (/home/yjernite/.cache/huggingface/datasets/bigscience-catalogue-lm-data___opus100/default/1.0.0/38d046fd69337e5badc103d36e76505872531d6fc0b10ed9178d9120d3b23e8e)\n"
     ]
    },
    {
     "data": {
      "application/vnd.jupyter.widget-view+json": {
       "model_id": "f098c90919ca4bffad58791a8c337096",
       "version_major": 2,
       "version_minor": 0
      },
      "text/plain": [
       "HBox(children=(FloatProgress(value=0.0, max=1.0), HTML(value='')))"
      ]
     },
     "metadata": {},
     "output_type": "display_data"
    },
    {
     "name": "stdout",
     "output_type": "stream",
     "text": [
      "\n"
     ]
    },
    {
     "name": "stderr",
     "output_type": "stream",
     "text": [
      "Using custom data configuration default\n",
      "Reusing dataset bloom_lm (/home/yjernite/.cache/huggingface/datasets/bigscience-catalogue-lm-data___bloom_lm/default/0.1.0/28fa0a14556414d6fca2aef9046bd830ea02e0cd1ed9074337c8f19080800786)\n"
     ]
    },
    {
     "data": {
      "application/vnd.jupyter.widget-view+json": {
       "model_id": "7b9d922ade694e78a8d10a761025993f",
       "version_major": 2,
       "version_minor": 0
      },
      "text/plain": [
       "HBox(children=(FloatProgress(value=0.0, max=1.0), HTML(value='')))"
      ]
     },
     "metadata": {},
     "output_type": "display_data"
    },
    {
     "name": "stdout",
     "output_type": "stream",
     "text": [
      "\n"
     ]
    },
    {
     "name": "stderr",
     "output_type": "stream",
     "text": [
      "Reusing dataset bookdash_books (/home/yjernite/.cache/huggingface/datasets/bigscience-catalogue-lm-data___bookdash_books/zu/0.0.0/6e56cad189f858d1fc88597692bdf77b5fcdab6a1ede6c9cbc560517a22ef642)\n"
     ]
    },
    {
     "data": {
      "application/vnd.jupyter.widget-view+json": {
       "model_id": "23c7fd31f7cc419facf797f8782f852e",
       "version_major": 2,
       "version_minor": 0
      },
      "text/plain": [
       "HBox(children=(FloatProgress(value=0.0, max=1.0), HTML(value='')))"
      ]
     },
     "metadata": {},
     "output_type": "display_data"
    },
    {
     "name": "stdout",
     "output_type": "stream",
     "text": [
      "\n"
     ]
    },
    {
     "name": "stderr",
     "output_type": "stream",
     "text": [
      "Using custom data configuration default\n",
      "Reusing dataset opus100 (/home/yjernite/.cache/huggingface/datasets/bigscience-catalogue-lm-data___opus100/default/1.0.0/04184932e747fa28ea51697ddac77b039522c1678c710d3245b3e100c2c824a7)\n"
     ]
    },
    {
     "data": {
      "application/vnd.jupyter.widget-view+json": {
       "model_id": "c3d8ff321f8b48bcb874b3384924c39a",
       "version_major": 2,
       "version_minor": 0
      },
      "text/plain": [
       "HBox(children=(FloatProgress(value=0.0, max=3.0), HTML(value='')))"
      ]
     },
     "metadata": {},
     "output_type": "display_data"
    },
    {
     "name": "stdout",
     "output_type": "stream",
     "text": [
      "\n"
     ]
    }
   ],
   "source": [
    "nigercongo_full = []\n",
    "\n",
    "for lncode, dslist in lncode_to_dsnames.items():\n",
    "    lncode_to_textlist[lncode] = []\n",
    "    for dsname in dslist:\n",
    "        dset = load_dataset(\n",
    "            dsname,\n",
    "            use_auth_token=_AUTH_TOKEN,\n",
    "        )\n",
    "        for spl in dset:\n",
    "            nigercongo_full += {\n",
    "                \"meta\": {\n",
    "                    \"langid\": lncode,\n",
    "                    \"source\": dsname,\n",
    "                    \"split\": spl,\n",
    "                },\n",
    "                \"text\": dset[spl][\"text\"],\n",
    "            }"
   ]
  },
  {
   "cell_type": "code",
   "execution_count": 59,
   "metadata": {},
   "outputs": [],
   "source": [
    "for txt in ds_yo_yoruba_text_c3['train'][\"text\"]:\n",
    "    nigercongo_full += [{\n",
    "                \"meta\": {\n",
    "                    \"langid\": \"yo\",\n",
    "                    \"source\": \"hf-yoruba_text_c3\",\n",
    "                },\n",
    "                \"text\": txt,\n",
    "            }]\n",
    "\n",
    "for spl in ds_sw_swahili:\n",
    "    for txt in ds_sw_swahili[spl][\"text\"]:\n",
    "        nigercongo_full += [{\n",
    "                \"meta\": {\n",
    "                    \"langid\": \"sw\",\n",
    "                    \"source\": \"hf-swahili\",\n",
    "                    \"split\": spl,\n",
    "                },\n",
    "                \"text\": txt,\n",
    "            }]\n",
    "\n",
    "for spl in ds_rw_kinnews_kirnews:\n",
    "    for exple in ds_rw_kinnews_kirnews[spl]:\n",
    "        nigercongo_full += [{\n",
    "                \"meta\": {\n",
    "                    \"langid\": \"rw\",\n",
    "                    \"source\": \"hf-kinnews_kirnews\",\n",
    "                },\n",
    "                \"text\": exple[\"title\"] + \"\\n\" + exple[\"content\"],\n",
    "            }]\n",
    "\n",
    "for spl in ds_rn_kinnews_kirnews:\n",
    "    for exple in ds_rn_kinnews_kirnews[spl]:\n",
    "        nigercongo_full += [{\n",
    "                \"meta\": {\n",
    "                    \"langid\": \"rn\",\n",
    "                    \"source\": \"hf-kinnews_kirnews\",\n",
    "                },\n",
    "                \"text\": exple[\"title\"] + \"\\n\" + exple[\"content\"],\n",
    "            }]\n",
    "\n",
    "for spl in ds_ig_igbo_english_machine_translation:\n",
    "    for exple in ds_ig_igbo_english_machine_translation[spl]:\n",
    "        nigercongo_full += [{\n",
    "                \"meta\": {\n",
    "                    \"langid\": \"ig\",\n",
    "                    \"source\": \"hf-igbo_english_machine_translation\",\n",
    "                },\n",
    "                \"text\": exple[\"translation\"]['ig'],\n",
    "            }]\n",
    "\n",
    "for spl in ds_ig_igbo_monolingual_bbc:\n",
    "    for exple in ds_ig_igbo_monolingual_bbc[spl]:\n",
    "        nigercongo_full += [{\n",
    "                \"meta\": {\n",
    "                    \"langid\": \"ig\",\n",
    "                    \"source\": \"hf-igbo_monolingual-bbc\",\n",
    "                },\n",
    "                \"text\": exple[\"title\"] + \"\\n\" + exple[\"description\"] + \"\\n\" + \\\n",
    "                    exple[\"headline\"] + \"\\n\" + exple[\"content\"],\n",
    "            }]   \n",
    "\n",
    "\n",
    "for spl in ds_ig_igbo_monolingual_radio:\n",
    "    for exple in ds_ig_igbo_monolingual_radio[spl]:\n",
    "        nigercongo_full += [{\n",
    "                \"meta\": {\n",
    "                    \"langid\": \"ig\",\n",
    "                    \"source\": \"hf-igbo_monolingual-radio\",\n",
    "                },\n",
    "                \"text\": exple[\"description\"] + \"\\n\" + exple[\"headline\"] + \"\\n\" + exple[\"content\"],\n",
    "            }]\n",
    "\n",
    "for spl in ds_zu_autshumato:\n",
    "    for exple in ds_zu_autshumato[spl]:\n",
    "        nigercongo_full += [{\n",
    "                \"meta\": {\n",
    "                    \"langid\": \"zu\",\n",
    "                    \"source\": \"hf-autshumato\",\n",
    "                },\n",
    "                \"text\": exple[\"translation\"]['zu'],\n",
    "            }]"
   ]
  },
  {
   "cell_type": "code",
   "execution_count": 60,
   "metadata": {},
   "outputs": [
    {
     "data": {
      "text/plain": [
       "['lm_ig_pseudocrawl_bbc_igbo.jsonl',\n",
       " 'lm_sw_pseudocrawl_deutschewelle_swahili.jsonl',\n",
       " 'lm_rw_pseudocrawl_bbc_gahuza.jsonl',\n",
       " 'lm_sw_pseudocrawl_globalvoices_swahili.jsonl',\n",
       " 'lm_sw_pseudocrawl_voiceofamerica_swahili.jsonl',\n",
       " 'lm_yo_pseudocrawl_globalvoices_yoruba.jsonl',\n",
       " 'lm_sw_pseudocrawl_bbc_swahili.jsonl',\n",
       " 'lm_yo_pseudocrawl_bbc_yoruba.jsonl',\n",
       " 'lm_ig_pseudocrawl_globalvoices_igbo.jsonl',\n",
       " 'lm_fr_pseudocrawl_mediapart.jsonl',\n",
       " 'lm_sw_pseudocrawl_mwananchi.jsonl']"
      ]
     },
     "execution_count": 60,
     "metadata": {},
     "output_type": "execute_result"
    }
   ],
   "source": [
    "from glob import glob\n",
    "\n",
    "glob(\"lm_*_pseudocrawl_*\")"
   ]
  },
  {
   "cell_type": "code",
   "execution_count": 64,
   "metadata": {},
   "outputs": [
    {
     "name": "stdout",
     "output_type": "stream",
     "text": [
      "ig bbc_igbo\n",
      "sw deutschewelle_swahili\n",
      "rw bbc_gahuza\n",
      "sw globalvoices_swahili\n",
      "sw voiceofamerica_swahili\n",
      "yo globalvoices_yoruba\n",
      "sw bbc_swahili\n",
      "yo bbc_yoruba\n",
      "ig globalvoices_igbo\n",
      "sw mwananchi\n"
     ]
    }
   ],
   "source": [
    "import json\n",
    "\n",
    "for fname in glob(\"lm_*_pseudocrawl_*\"):\n",
    "    lncode = fname[3:5]\n",
    "    seedname = fname[18:-6]\n",
    "    if lncode != \"fr\":\n",
    "        print(lncode, seedname)\n",
    "        f = open(fname, encoding=\"utf-8\")\n",
    "        for line in f:\n",
    "            line_dct = json.loads(line.strip())\n",
    "            line_dct[\"meta\"][\"source\"] = f\"pseudocrawl-{seedname}\"\n",
    "            line_dct[\"meta\"][\"langid\"] = lncode\n",
    "            nigercongo_full += [line_dct]\n",
    "        f.close()"
   ]
  },
  {
   "cell_type": "code",
   "execution_count": 65,
   "metadata": {},
   "outputs": [
    {
     "data": {
      "text/plain": [
       "796365"
      ]
     },
     "execution_count": 65,
     "metadata": {},
     "output_type": "execute_result"
    }
   ],
   "source": [
    "len(nigercongo_full)"
   ]
  },
  {
   "cell_type": "code",
   "execution_count": 66,
   "metadata": {},
   "outputs": [
    {
     "name": "stdout",
     "output_type": "stream",
     "text": [
      "{'meta': {'langid': 'yo', 'source': 'hf-yoruba_text_c3'},\n",
      " 'text': 'ó ń tipasẹ̀ ọ̀rọ̀ rẹ̀ bíbélì sọ ọ̀nà tó dára jù lọ fún wọn láti máa '\n",
      "         'tọ̀'}\n"
     ]
    }
   ],
   "source": [
    "from random import choice\n",
    "from pprint import pprint\n",
    "\n",
    "pprint(choice(nigercongo_full), width=190)"
   ]
  },
  {
   "cell_type": "code",
   "execution_count": 74,
   "metadata": {},
   "outputs": [
    {
     "name": "stdout",
     "output_type": "stream",
     "text": [
      "{'meta': {'content_languages': 'swa,eng',\n",
      "          'html_title': ['<title>Mume amnyonga mkewe na kujiua Uganda</title>\\n'],\n",
      "          'langid': 'sw',\n",
      "          'seed_id': 706,\n",
      "          'source': 'pseudocrawl-voiceofamerica_swahili',\n",
      "          'url': 'https://www.voaswahili.com/a/mume-amnyonga-mkewe-uganda/3967540.html',\n",
      "          'url_host_name': 'www.voaswahili.com'},\n",
      " 'text': 'Polisi nchini Uganda inachunguza tukio ambalo mtu anadaiwa kumuua mkewe kwa kumnyonga na baadae kujiua kwa kujinyonga.\\n'\n",
      "         'Afisa upelelezi wa kituo cha Manispaa ya Kasese Peter Tindyebwa amesema tukio hilo lilitokea katika majira ya usiku wa saa sita Jumanne katika eneo la Kikonzo, Kata ya Railway '\n",
      "         'katika eneo la katikati ya manispaa.\\n'\n",
      "         'Maiti hizo zilitambuliwa kuwa ni Francis Nitware na mkewe Annet Nkunzimana wote wakazi wa kijiji cha Kabuga huko Karusandara kaunti ndogo. Walikuwa wanaishi katika nyumba '\n",
      "         'yakukodi.\\n'\n",
      "         'Polisi imesema tukio hilo ni matokeo ya ugomvi uliokuwepo kati ya familia hiyo. Wanafamilia hao waliishi pamoja kwa takriban karibu miaka kumi lakini hawakuwahi kupata mtoto.\\n'\n",
      "         'Kwa mujibu wa Melesi Kabugho, jirani, mwanamume huyu alikuwa akimtuhumu mkewe kwa kuwa na mahusiano ya nje ya ndoa na wanaume wengine mjini hapo..\\n'\n",
      "         'Kamanda wa Polisi wa Rwenzori Richard Ecega ameliambia gazeti la Daily Monitor kuwa mauaji yanayotokana na manyanyaso ya kinyumbani katika wilaya hiyo ni asilimia 70 ya kesi '\n",
      "         'ambazo zinaripotiwa. Tindyebwa amesema kesi za manyanyaso ya kinyumbani zimefikia asilimia 60 katika manispaa hiyo.\\n'\n",
      "         'Hadi jioni, miili hiyo ya marehemu ilikuwa bado iko kwenye kituo cha Afya cha Manispaa ya Kasese ikisubiri kufanyiwa uchunguzi.\\n'\n",
      "         'Rais Samia aongoza kuuaga mwili wa hayati Magufuli Dar es Salaam'}\n"
     ]
    }
   ],
   "source": [
    "pprint(choice(nigercongo_full), width=190)"
   ]
  },
  {
   "cell_type": "code",
   "execution_count": 75,
   "metadata": {},
   "outputs": [],
   "source": [
    "f = open(\"nigercongo_full_tokenization.jsonl\", \"w\", encoding=\"utf-8\")\n",
    "\n",
    "for exple in nigercongo_full:\n",
    "    _ = f.write(json.dumps(exple) + \"\\n\")\n",
    "\n",
    "f.close()"
   ]
  },
  {
   "cell_type": "code",
   "execution_count": null,
   "metadata": {},
   "outputs": [],
   "source": []
  },
  {
   "cell_type": "code",
   "execution_count": null,
   "metadata": {},
   "outputs": [],
   "source": []
  },
  {
   "cell_type": "code",
   "execution_count": null,
   "metadata": {},
   "outputs": [],
   "source": []
  }
 ],
 "metadata": {
  "kernelspec": {
   "display_name": "Python 3",
   "language": "python",
   "name": "python3"
  },
  "language_info": {
   "codemirror_mode": {
    "name": "ipython",
    "version": 3
   },
   "file_extension": ".py",
   "mimetype": "text/x-python",
   "name": "python",
   "nbconvert_exporter": "python",
   "pygments_lexer": "ipython3",
   "version": "3.8.3"
  }
 },
 "nbformat": 4,
 "nbformat_minor": 4
}
